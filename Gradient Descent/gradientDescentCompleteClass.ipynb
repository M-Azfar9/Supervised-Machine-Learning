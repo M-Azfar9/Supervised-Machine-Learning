{
 "cells": [
  {
   "cell_type": "markdown",
   "id": "482e2137",
   "metadata": {},
   "source": [
    "# Gradient Descent Class "
   ]
  },
  {
   "cell_type": "code",
   "execution_count": 1,
   "id": "fe33b091",
   "metadata": {},
   "outputs": [],
   "source": [
    "import numpy as np\n",
    "import pandas as pd\n",
    "import matplotlib.pyplot as plt\n",
    "import seaborn as sns\n",
    "from sklearn.datasets import make_regression"
   ]
  },
  {
   "cell_type": "code",
   "execution_count": 28,
   "id": "6a64c4c5",
   "metadata": {},
   "outputs": [],
   "source": [
    "x, y = make_regression(n_features=1, n_samples=1000, n_informative=1, n_targets=1, noise=20, random_state=1)"
   ]
  },
  {
   "cell_type": "code",
   "execution_count": 29,
   "id": "0aa8f4b8",
   "metadata": {},
   "outputs": [
    {
     "data": {
      "text/plain": [
       "<matplotlib.collections.PathCollection at 0x2b04abf4fe0>"
      ]
     },
     "execution_count": 29,
     "metadata": {},
     "output_type": "execute_result"
    },
    {
     "data": {
      "image/png": "[encoded data removed]",
      "text/plain": [
       "<Figure size 640x480 with 1 Axes>"
      ]
     },
     "metadata": {},
     "output_type": "display_data"
    }
   ],
   "source": [
    "plt.scatter(x, y)"
   ]
  },
  {
   "cell_type": "code",
   "execution_count": 30,
   "id": "1ea2bb90",
   "metadata": {},
   "outputs": [],
   "source": [
    "from sklearn.model_selection import train_test_split\n",
    "x_train, x_test, y_train, y_test = train_test_split(x, y, test_size=0.2, random_state=42)"
   ]
  },
  {
   "cell_type": "code",
   "execution_count": 32,
   "id": "0efadd03",
   "metadata": {},
   "outputs": [
    {
     "name": "stdout",
     "output_type": "stream",
     "text": [
      "lr.coef_(m):  [38.04690796]\n",
      "lr.intercept_(b):  1.2690802933530623\n"
     ]
    }
   ],
   "source": [
    "from sklearn.linear_model import LinearRegression\n",
    "lr = LinearRegression()\n",
    "lr.fit(x_train, y_train)\n",
    "pred = lr.predict(x_test)\n",
    "print('lr.coef_(m): ',lr.coef_)\n",
    "print('lr.intercept_(b): ',lr.intercept_)"
   ]
  },
  {
   "cell_type": "code",
   "execution_count": 33,
   "id": "ebc74924",
   "metadata": {},
   "outputs": [
    {
     "data": {
      "text/plain": [
       "0.7640799209419177"
      ]
     },
     "execution_count": 33,
     "metadata": {},
     "output_type": "execute_result"
    }
   ],
   "source": [
    "from sklearn.metrics import r2_score\n",
    "r2_score(y_test, pred)"
   ]
  },
  {
   "cell_type": "code",
   "execution_count": 7,
   "id": "bee09be0",
   "metadata": {},
   "outputs": [
    {
     "data": {
      "text/plain": [
       "np.float64(0.8821727978500112)"
      ]
     },
     "execution_count": 7,
     "metadata": {},
     "output_type": "execute_result"
    }
   ],
   "source": [
    "from sklearn.model_selection import cross_val_score\n",
    "np.mean(cross_val_score(lr, x, y, scoring='r2', cv=10))"
   ]
  },
  {
   "cell_type": "markdown",
   "id": "340175f0",
   "metadata": {},
   "source": [
    "### Class"
   ]
  },
  {
   "cell_type": "code",
   "execution_count": 38,
   "id": "549ba2cb",
   "metadata": {},
   "outputs": [],
   "source": [
    "class MyGDRegressor:\n",
    "    def __init__(self, m, b, l_rate, epochs):\n",
    "        self.intercept_ = b\n",
    "        self.coeff_ = m\n",
    "        self.learning_rate = l_rate\n",
    "        self.epochs = epochs\n",
    "        \n",
    "    def fit(self, x_train, y_train):\n",
    "        for i in range(self.epochs):\n",
    "            loss_slope_b = -2*np.sum(y_train-self.coeff_*x_train.ravel()-self.intercept_)\n",
    "\n",
    "            loss_slope_m = -2*np.sum((y_train-self.coeff_*x_train.ravel()-self.intercept_)*x_train.ravel())\n",
    "\n",
    "            self.intercept_ = self.intercept_ - (loss_slope_b*self.learning_rate)\n",
    "\n",
    "            self.coeff_ = self.coeff_ - (loss_slope_m*self.learning_rate)\n",
    "        print(self.intercept_)\n",
    "        print(self.coeff_)\n",
    "        pass\n",
    "    \n",
    "    \n",
    "    def predict(self, x_test):\n",
    "        return self.coeff_*x_test + self.intercept_\n",
    "    \n",
    "    def visualize_gd_graph(self):\n",
    "        pass"
   ]
  },
  {
   "cell_type": "code",
   "execution_count": 39,
   "id": "56bc193d",
   "metadata": {},
   "outputs": [
    {
     "name": "stdout",
     "output_type": "stream",
     "text": [
      "1.269080381732053\n",
      "38.046908034093526\n"
     ]
    }
   ],
   "source": [
    "gd = MyGDRegressor(100, 100, l_rate=0.001, epochs=50)\n",
    "gd.fit(x_train,y_train)\n",
    "gd_predict = gd.predict(x_test)"
   ]
  },
  {
   "cell_type": "code",
   "execution_count": 40,
   "id": "3e5a1a91",
   "metadata": {},
   "outputs": [
    {
     "data": {
      "text/plain": [
       "0.7640799206737132"
      ]
     },
     "execution_count": 40,
     "metadata": {},
     "output_type": "execute_result"
    }
   ],
   "source": [
    "r2_score(y_test, gd_predict)"
   ]
  }
 ],
 "metadata": {
  "kernelspec": {
   "display_name": "Python 3",
   "language": "python",
   "name": "python3"
  },
  "language_info": {
   "codemirror_mode": {
    "name": "ipython",
    "version": 3
   },
   "file_extension": ".py",
   "mimetype": "text/x-python",
   "name": "python",
   "nbconvert_exporter": "python",
   "pygments_lexer": "ipython3",
   "version": "3.12.4"
  }
 },
 "nbformat": 4,
 "nbformat_minor": 5
}
