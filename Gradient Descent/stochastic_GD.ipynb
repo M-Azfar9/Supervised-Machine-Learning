{
 "cells": [
  {
   "cell_type": "markdown",
   "id": "cb7eee09",
   "metadata": {},
   "source": [
    "## Stochastic Gradient Descent \n",
    "### code from scratch"
   ]
  },
  {
   "cell_type": "code",
   "execution_count": 1,
   "id": "0c702c89",
   "metadata": {},
   "outputs": [],
   "source": [
    "import numpy as np\n",
    "import pandas as pd\n",
    "import matplotlib.pyplot as plt\n",
    "import seaborn as sns\n",
    "from sklearn.datasets import load_diabetes\n",
    "from sklearn.model_selection import train_test_split\n",
    "from sklearn.metrics import r2_score\n",
    "from sklearn.linear_model import LinearRegression"
   ]
  },
  {
   "cell_type": "code",
   "execution_count": 2,
   "id": "cc18e76a",
   "metadata": {},
   "outputs": [],
   "source": [
    "x,y = load_diabetes(return_X_y=True)"
   ]
  },
  {
   "cell_type": "code",
   "execution_count": 3,
   "id": "629a27af",
   "metadata": {},
   "outputs": [
    {
     "data": {
      "text/plain": [
       "((442, 10), (442,))"
      ]
     },
     "execution_count": 3,
     "metadata": {},
     "output_type": "execute_result"
    }
   ],
   "source": [
    "x.shape, y.shape"
   ]
  },
  {
   "cell_type": "code",
   "execution_count": 4,
   "id": "69118255",
   "metadata": {},
   "outputs": [],
   "source": [
    "x_train, x_test, y_train, y_test = train_test_split(x, y, test_size=0.2, random_state=42)"
   ]
  },
  {
   "cell_type": "code",
   "execution_count": 5,
   "id": "4ae1e493",
   "metadata": {},
   "outputs": [
    {
     "name": "stdout",
     "output_type": "stream",
     "text": [
      "r2 SCore:  0.4526027629719197\n"
     ]
    }
   ],
   "source": [
    "reg = LinearRegression()\n",
    "reg.fit(x_train, y_train)\n",
    "pred = reg.predict(x_test)\n",
    "print(\"r2 SCore: \", r2_score(y_test, pred))"
   ]
  },
  {
   "cell_type": "code",
   "execution_count": 6,
   "id": "89b4b02f",
   "metadata": {},
   "outputs": [
    {
     "name": "stdout",
     "output_type": "stream",
     "text": [
      "reg.coef_:  [  37.90402135 -241.96436231  542.42875852  347.70384391 -931.48884588\n",
      "  518.06227698  163.41998299  275.31790158  736.1988589    48.67065743]\n",
      "reg.intercept_:  151.34560453985995\n"
     ]
    }
   ],
   "source": [
    "print('reg.coef_: ',reg.coef_)\n",
    "print('reg.intercept_: ',reg.intercept_)"
   ]
  },
  {
   "cell_type": "code",
   "execution_count": 10,
   "id": "84348647",
   "metadata": {},
   "outputs": [],
   "source": [
    "class MySGDRegressor:\n",
    "    \n",
    "    def __init__(self, learning_rate=0.01, epochs=100):\n",
    "        self.coeff = None\n",
    "        self.intercept = None\n",
    "        self.learning_rate = learning_rate\n",
    "        self.epochs = epochs\n",
    "    \n",
    "    def fit(self, x_train, y_train):\n",
    "        self.intercept = 0\n",
    "        # since we dont know the number of coefficient in advanced\n",
    "        # Then, how can we get the number of coeff???\n",
    "        # using x_train ---> # of columns\n",
    "        self.coeff = np.ones(x_train.shape[1])\n",
    "        \n",
    "        for i in range(self.epochs):\n",
    "            # This loop run for n rows\n",
    "            for j in range(x_train.shape[0]):\n",
    "                idx = np.random.randint(0, x_train.shape[0])\n",
    "                \n",
    "                y_hat = np.dot(x_train[idx], self.coeff) + self.intercept\n",
    "                # y_hat gives a scalar quantity\n",
    "                \n",
    "                # calculate derivative for single value, \n",
    "                intercept_der = -2*(y_train[idx]-y_hat)\n",
    "                \n",
    "                self.intercept = self.intercept - (self.learning_rate*intercept_der)\n",
    "                \n",
    "                coeff_der = -2 * np.dot((y_train[idx] - y_hat),x_train[idx])\n",
    "                self.coeff = self.coeff - (self.learning_rate * coeff_der)\n",
    "                \n",
    "        print(\"self.intercept: \", self.intercept)\n",
    "        print(\"self.coeff: \", self.coeff)\n",
    "        \n",
    "        pass\n",
    "    \n",
    "    def predict(self, x_test):\n",
    "        return np.dot(x_test, self.coeff) + self.intercept\n",
    "        pass"
   ]
  },
  {
   "cell_type": "code",
   "execution_count": 25,
   "id": "4b35f005",
   "metadata": {},
   "outputs": [],
   "source": [
    "my_sgd = MySGDRegressor(epochs=50, learning_rate=0.01)"
   ]
  },
  {
   "cell_type": "code",
   "execution_count": 26,
   "id": "d32fb1d5",
   "metadata": {},
   "outputs": [
    {
     "name": "stdout",
     "output_type": "stream",
     "text": [
      "self.intercept:  151.4841501042558\n",
      "self.coeff:  [  50.09739546  -99.36295456  367.58597356  254.53612229   -8.05685762\n",
      "  -43.54974223 -180.89663576  142.35844328  283.88694685  152.40351877]\n"
     ]
    }
   ],
   "source": [
    "my_sgd.fit(x_train, y_train)\n",
    "# reg.coef_:  [  37.90402135 -241.96436231  542.42875852  347.70384391 -931.48884588\n",
    "#   518.06227698  163.41998299  275.31790158  736.1988589    48.67065743]\n",
    "# reg.intercept_:  151.34560453985995\n"
   ]
  },
  {
   "cell_type": "code",
   "execution_count": 27,
   "id": "7e7887b5",
   "metadata": {},
   "outputs": [],
   "source": [
    "y_pred = my_sgd.predict(x_test)"
   ]
  },
  {
   "cell_type": "code",
   "execution_count": 28,
   "id": "caa7c69d",
   "metadata": {},
   "outputs": [
    {
     "data": {
      "text/plain": [
       "0.44824134429904405"
      ]
     },
     "execution_count": 28,
     "metadata": {},
     "output_type": "execute_result"
    }
   ],
   "source": [
    "r2_score(y_test, y_pred)"
   ]
  },
  {
   "cell_type": "code",
   "execution_count": 32,
   "id": "8e501289",
   "metadata": {},
   "outputs": [],
   "source": [
    "class OurGDRegressor:\n",
    "    \n",
    "    def __init__(self, learning_rate=0.01, epochs=100):\n",
    "        self.coeff = None\n",
    "        self.intercept = None\n",
    "        self.learning_rate = learning_rate\n",
    "        self.epochs = epochs\n",
    "    \n",
    "    def fit(self, x_train, y_train):\n",
    "        self.intercept = 0\n",
    "        # since we dont know the number of coefficient in advanced\n",
    "        # Then, how can we get the number of coeff???\n",
    "        # using x_train ---> # of columns\n",
    "        self.coeff = np.ones(x_train.shape[1])\n",
    "        \n",
    "        for i in range(self.epochs):\n",
    "            y_hat = np.dot(x_train, self.coeff) + self.intercept\n",
    "            \n",
    "            intercept_derivative = -2 * np.mean(y_train - y_hat)\n",
    "            self.intercept = self.intercept - (self.learning_rate*intercept_derivative)\n",
    "            \n",
    "            # Now calculate all new coeff\n",
    "            coeff_dr = -2 * np.dot((y_train - y_hat),x_train)/x_train.shape[0]\n",
    "            self.coeff = self.coeff - (self.learning_rate * coeff_dr)\n",
    "        print(\"self.intercept: \", self.intercept)\n",
    "        print(\"self.coeff: \", self.coeff)\n",
    "        \n",
    "        pass\n",
    "    \n",
    "    def predict(self, x_test):\n",
    "        return np.dot(x_test, self.coeff) + self.intercept\n",
    "        pass"
   ]
  },
  {
   "cell_type": "code",
   "execution_count": null,
   "id": "8a757567",
   "metadata": {},
   "outputs": [
    {
     "name": "stdout",
     "output_type": "stream",
     "text": [
      "self.intercept:  151.6953714928009\n",
      "self.coeff:  [  54.77752712 -118.26736836  403.54075107  273.34870362  -18.21174397\n",
      "  -59.84591126 -193.73469406  149.40985715  310.94234121  147.05496686]\n",
      "r2 Score:  0.4540465542132718\n"
     ]
    }
   ],
   "source": [
    "gdr = OurGDRegressor(epochs=250, learning_rate=0.9)\n",
    "gdr.fit(x_train, y_train)\n",
    "myPred = gdr.predict(x_test)\n",
    "print(\"r2 Score: \", r2_score(y_test, myPred))"
   ]
  },
  {
   "cell_type": "markdown",
   "id": "3461cf78",
   "metadata": {},
   "source": [
    "Comparing Speed/Time of Batch and Stochasitc Gradient"
   ]
  },
  {
   "cell_type": "code",
   "execution_count": 29,
   "id": "4aee3759",
   "metadata": {},
   "outputs": [],
   "source": [
    "import time"
   ]
  },
  {
   "cell_type": "markdown",
   "id": "e337fd8b",
   "metadata": {},
   "source": [
    "Stochastic GD"
   ]
  },
  {
   "cell_type": "code",
   "execution_count": null,
   "id": "0ec9b589",
   "metadata": {},
   "outputs": [
    {
     "name": "stdout",
     "output_type": "stream",
     "text": [
      "self.intercept:  153.5423629492601\n",
      "self.coeff:  [  60.02851678  -97.04938737  367.37535493  247.55115592   -5.92702954\n",
      "  -43.01139606 -184.77976631  143.39312569  288.593647    151.12301947]\n",
      "The time taken is 0.5400984287261963\n"
     ]
    }
   ],
   "source": [
    "start = time.time()\n",
    "my_sgd.fit(x_train, y_train)\n",
    "print('The time taken is', time.time()-start)"
   ]
  },
  {
   "cell_type": "markdown",
   "id": "623ee389",
   "metadata": {},
   "source": [
    "Batch GD"
   ]
  },
  {
   "cell_type": "code",
   "execution_count": 34,
   "id": "759cc588",
   "metadata": {},
   "outputs": [
    {
     "name": "stdout",
     "output_type": "stream",
     "text": [
      "The time taken is 0.0010068416595458984\n"
     ]
    }
   ],
   "source": [
    "start = time.time()\n",
    "myPred = gdr.predict(x_test)\n",
    "print('The time taken is', time.time()-start)\n"
   ]
  },
  {
   "cell_type": "markdown",
   "id": "ff778757",
   "metadata": {},
   "source": [
    "### **Stochastic GD using scikit learn SGDRegressor class**"
   ]
  },
  {
   "cell_type": "code",
   "execution_count": 36,
   "id": "80eeee1c",
   "metadata": {},
   "outputs": [],
   "source": [
    "from sklearn.linear_model import SGDRegressor\n",
    "# max_iter = epochs"
   ]
  },
  {
   "attachments": {
    "image.png": {
     "image/png": "[encoded data removed]"
    }
   },
   "cell_type": "markdown",
   "id": "9a9ef94c",
   "metadata": {},
   "source": [
    "> learning_rate is a strategy, not a numeric value.\n",
    "\n",
    "`In SGDRegressor, the learning_rate parameter is a string that defines how the actual learning rate (eta0) changes during training.`\n",
    "\n",
    "✅ eta0 is the initial learning rate — and it's a number.\n",
    "___\n",
    "![image.png](attachment:image.png)"
   ]
  },
  {
   "cell_type": "code",
   "execution_count": 37,
   "id": "d6429ff7",
   "metadata": {},
   "outputs": [],
   "source": [
    "sgd_regressor = SGDRegressor(max_iter=100, learning_rate='constant', eta0=0.01)"
   ]
  },
  {
   "cell_type": "markdown",
   "id": "297de478",
   "metadata": {},
   "source": [
    "### 📘 **What is a Learning Schedule in Stochastic Gradient Descent (SGD)?**\n",
    "\n",
    "In **Stochastic Gradient Descent (SGD)**, a **learning schedule** (also called a **learning rate schedule**) is a strategy for adjusting the **learning rate** (`α` or `η`) over time during training.\n",
    "\n",
    "---\n",
    "\n",
    "## 🔍 Why is a Learning Schedule Needed?\n",
    "\n",
    "In SGD:\n",
    "\n",
    "- The updates are noisy (since only one or a few samples are used per step).\n",
    "- A **high learning rate** helps explore faster but may overshoot.\n",
    "- A **low learning rate** helps converge more precisely but may get stuck or slow down training.\n",
    "\n",
    "**So, the idea is:**\n",
    "\n",
    "- Start with a **higher learning rate**.\n",
    "- Gradually **reduce it** to fine-tune the model during training.\n",
    "\n",
    "---\n",
    "\n",
    "## 📈 Common Learning Schedules\n",
    "\n",
    "### ✅ 1. Step Decay\n",
    "Decrease the learning rate every few epochs:\n",
    "\n",
    "\n",
    "---\n",
    "\n",
    "### ✅ 2. Time-Based Decay\n",
    "Learning rate decays gradually over time:\n",
    "\n",
    "\n",
    "---\n",
    "\n",
    "### ✅ 3. Exponential Decay\n",
    "Decay the learning rate exponentially with time:\n",
    "\n",
    "\n",
    "---\n",
    "\n",
    "### ✅ 4. 1/t Decay (Inverse Scaling)\n",
    "Common in online learning:\n",
    "\n",
    "\n",
    "---\n",
    "\n",
    "### ✅ 5. Adaptive Methods (Adam, RMSprop)\n",
    "These optimizers **dynamically adjust** the learning rate **per parameter** based on past gradients.\n",
    "\n",
    "> ⚠️ While not technically \"schedules,\" adaptive methods like **Adam** and **RMSprop** behave like one by modifying the learning rate during training.\n",
    "\n",
    "---\n"
   ]
  },
  {
   "cell_type": "code",
   "execution_count": null,
   "id": "876c1d85",
   "metadata": {},
   "outputs": [],
   "source": []
  }
 ],
 "metadata": {
  "kernelspec": {
   "display_name": "Python 3",
   "language": "python",
   "name": "python3"
  },
  "language_info": {
   "codemirror_mode": {
    "name": "ipython",
    "version": 3
   },
   "file_extension": ".py",
   "mimetype": "text/x-python",
   "name": "python",
   "nbconvert_exporter": "python",
   "pygments_lexer": "ipython3",
   "version": "3.12.4"
  }
 },
 "nbformat": 4,
 "nbformat_minor": 5
}
