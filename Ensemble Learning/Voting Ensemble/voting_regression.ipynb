{
 "cells": [
  {
   "cell_type": "markdown",
   "id": "ca82eff9",
   "metadata": {},
   "source": [
    "# ***VOTING REGRESSION***"
   ]
  },
  {
   "cell_type": "code",
   "execution_count": 45,
   "id": "c79a39b7",
   "metadata": {},
   "outputs": [],
   "source": [
    "import seaborn as sns\n",
    "import pandas as pd"
   ]
  },
  {
   "cell_type": "code",
   "execution_count": 46,
   "id": "000b589f",
   "metadata": {},
   "outputs": [],
   "source": [
    "df = pd.read_csv('HousingData.csv')"
   ]
  },
  {
   "cell_type": "markdown",
   "id": "77beaef1",
   "metadata": {},
   "source": [
    ">### DATA PREPROCESSING"
   ]
  },
  {
   "cell_type": "code",
   "execution_count": 47,
   "id": "ed74a37e",
   "metadata": {},
   "outputs": [
    {
     "data": {
      "text/plain": [
       "CRIM       3.952569\n",
       "ZN         3.952569\n",
       "INDUS      3.952569\n",
       "CHAS       3.952569\n",
       "NOX        0.000000\n",
       "RM         0.000000\n",
       "AGE        3.952569\n",
       "DIS        0.000000\n",
       "RAD        0.000000\n",
       "TAX        0.000000\n",
       "PTRATIO    0.000000\n",
       "B          0.000000\n",
       "LSTAT      3.952569\n",
       "MEDV       0.000000\n",
       "dtype: float64"
      ]
     },
     "execution_count": 47,
     "metadata": {},
     "output_type": "execute_result"
    }
   ],
   "source": [
    "nans = df.isnull().mean()*100\n",
    "nans"
   ]
  },
  {
   "cell_type": "code",
   "execution_count": 48,
   "id": "4531382f",
   "metadata": {},
   "outputs": [],
   "source": [
    "cols = [i for i in nans.index if nans[i]>0]"
   ]
  },
  {
   "cell_type": "code",
   "execution_count": 49,
   "id": "50aa97d9",
   "metadata": {},
   "outputs": [
    {
     "data": {
      "text/plain": [
       "['CRIM', 'ZN', 'INDUS', 'CHAS', 'AGE', 'LSTAT']"
      ]
     },
     "execution_count": 49,
     "metadata": {},
     "output_type": "execute_result"
    }
   ],
   "source": [
    "cols"
   ]
  },
  {
   "cell_type": "code",
   "execution_count": 50,
   "id": "477f54e8",
   "metadata": {},
   "outputs": [],
   "source": [
    "for i in cols:\n",
    "    df[i] = df[i].fillna(df[i].mean())"
   ]
  },
  {
   "cell_type": "code",
   "execution_count": 51,
   "id": "41964ea9",
   "metadata": {},
   "outputs": [
    {
     "name": "stdout",
     "output_type": "stream",
     "text": [
      "<class 'pandas.core.frame.DataFrame'>\n",
      "RangeIndex: 506 entries, 0 to 505\n",
      "Data columns (total 14 columns):\n",
      " #   Column   Non-Null Count  Dtype  \n",
      "---  ------   --------------  -----  \n",
      " 0   CRIM     506 non-null    float64\n",
      " 1   ZN       506 non-null    float64\n",
      " 2   INDUS    506 non-null    float64\n",
      " 3   CHAS     506 non-null    float64\n",
      " 4   NOX      506 non-null    float64\n",
      " 5   RM       506 non-null    float64\n",
      " 6   AGE      506 non-null    float64\n",
      " 7   DIS      506 non-null    float64\n",
      " 8   RAD      506 non-null    int64  \n",
      " 9   TAX      506 non-null    int64  \n",
      " 10  PTRATIO  506 non-null    float64\n",
      " 11  B        506 non-null    float64\n",
      " 12  LSTAT    506 non-null    float64\n",
      " 13  MEDV     506 non-null    float64\n",
      "dtypes: float64(12), int64(2)\n",
      "memory usage: 55.5 KB\n"
     ]
    }
   ],
   "source": [
    "df.info()"
   ]
  },
  {
   "cell_type": "code",
   "execution_count": 52,
   "id": "db4788ca",
   "metadata": {},
   "outputs": [
    {
     "data": {
      "text/plain": [
       "CRIM       0\n",
       "ZN         0\n",
       "INDUS      0\n",
       "CHAS       0\n",
       "NOX        0\n",
       "RM         0\n",
       "AGE        0\n",
       "DIS        0\n",
       "RAD        0\n",
       "TAX        0\n",
       "PTRATIO    0\n",
       "B          0\n",
       "LSTAT      0\n",
       "MEDV       0\n",
       "dtype: int64"
      ]
     },
     "execution_count": 52,
     "metadata": {},
     "output_type": "execute_result"
    }
   ],
   "source": [
    "df.isnull().sum()"
   ]
  },
  {
   "cell_type": "markdown",
   "id": "67c46da8",
   "metadata": {},
   "source": [
    ">### Model Training"
   ]
  },
  {
   "cell_type": "code",
   "execution_count": 53,
   "id": "39c960d8",
   "metadata": {},
   "outputs": [],
   "source": [
    "from sklearn.linear_model import LinearRegression\n",
    "from sklearn.tree import DecisionTreeRegressor\n",
    "from sklearn.svm import SVR\n",
    "from sklearn.model_selection import cross_val_score\n",
    "import numpy as np"
   ]
  },
  {
   "cell_type": "code",
   "execution_count": 54,
   "id": "8e76e7e9",
   "metadata": {},
   "outputs": [],
   "source": [
    "lr = LinearRegression()\n",
    "dtr = DecisionTreeRegressor()\n",
    "svr = SVR()"
   ]
  },
  {
   "cell_type": "code",
   "execution_count": 55,
   "id": "14674a44",
   "metadata": {},
   "outputs": [],
   "source": [
    "estimators = [('lr', lr), ('dtr', dtr), ('svr', svr)]\n",
    "x = df.iloc[:, :-1]\n",
    "y = df.iloc[:, -1]"
   ]
  },
  {
   "cell_type": "code",
   "execution_count": 56,
   "id": "23c9ffd8",
   "metadata": {},
   "outputs": [
    {
     "name": "stdout",
     "output_type": "stream",
     "text": [
      "lr 0.1899988435769259\n",
      "dtr -0.16415270896016823\n",
      "svr -0.4217522803865508\n"
     ]
    }
   ],
   "source": [
    "for e in estimators:\n",
    "    scores = cross_val_score(e[1], x, y, scoring='r2', cv=10)\n",
    "    print(e[0], np.mean(scores))"
   ]
  },
  {
   "cell_type": "code",
   "execution_count": 59,
   "id": "46a867c3",
   "metadata": {},
   "outputs": [
    {
     "data": {
      "text/plain": [
       "np.float64(0.4332755000178648)"
      ]
     },
     "execution_count": 59,
     "metadata": {},
     "output_type": "execute_result"
    }
   ],
   "source": [
    "from sklearn.ensemble import VotingRegressor\n",
    "vr = VotingRegressor(estimators=estimators)\n",
    "np.mean(cross_val_score(vr, x, y, cv=10, scoring='r2'))"
   ]
  },
  {
   "cell_type": "code",
   "execution_count": 60,
   "id": "aad70698",
   "metadata": {},
   "outputs": [
    {
     "name": "stdout",
     "output_type": "stream",
     "text": [
      "for i=1, j=1, k=1 0.42539973186774915\n",
      "for i=1, j=1, k=2 0.31319787157001444\n",
      "for i=1, j=1, k=3 0.2550898585287576\n",
      "for i=1, j=1, k=4 0.1778713040597952\n",
      "for i=1, j=2, k=1 0.41647761101935077\n",
      "for i=1, j=2, k=2 0.3841697673104309\n",
      "for i=1, j=2, k=3 0.3512654809607906\n",
      "for i=1, j=2, k=4 0.2724259666272271\n",
      "for i=1, j=3, k=1 0.3526456260858787\n",
      "for i=1, j=3, k=2 0.35795064224850426\n",
      "for i=1, j=3, k=3 0.3798569025986661\n",
      "for i=1, j=3, k=4 0.32855985144653765\n",
      "for i=1, j=4, k=1 0.22303373681138336\n",
      "for i=1, j=4, k=2 0.3524470282542902\n",
      "for i=1, j=4, k=3 0.3215751468017085\n",
      "for i=1, j=4, k=4 0.35782958384379937\n",
      "for i=2, j=1, k=1 0.4136291428765843\n",
      "for i=2, j=1, k=2 0.3838546255683164\n",
      "for i=2, j=1, k=3 0.3348628812261392\n",
      "for i=2, j=1, k=4 0.2652033420789893\n",
      "for i=2, j=2, k=1 0.4138877526434972\n",
      "for i=2, j=2, k=2 0.44266702684419024\n",
      "for i=2, j=2, k=3 0.39738030707592015\n",
      "for i=2, j=2, k=4 0.33554572247326353\n",
      "for i=2, j=3, k=1 0.3944096862601252\n",
      "for i=2, j=3, k=2 0.4084704193389956\n",
      "for i=2, j=3, k=3 0.38185294279805043\n",
      "for i=2, j=3, k=4 0.38384921923500376\n",
      "for i=2, j=4, k=1 0.38723462661049046\n",
      "for i=2, j=4, k=2 0.3854264979133838\n",
      "for i=2, j=4, k=3 0.40054556652965345\n",
      "for i=2, j=4, k=4 0.38717289198704175\n",
      "for i=3, j=1, k=1 0.4192970122017293\n",
      "for i=3, j=1, k=2 0.4097412061189412\n",
      "for i=3, j=1, k=3 0.3736912727574101\n",
      "for i=3, j=1, k=4 0.33391134637143777\n",
      "for i=3, j=2, k=1 0.4055008569597218\n",
      "for i=3, j=2, k=2 0.4405058812818168\n",
      "for i=3, j=2, k=3 0.40610525422028854\n",
      "for i=3, j=2, k=4 0.37773815463861393\n",
      "for i=3, j=3, k=1 0.3342982808018834\n",
      "for i=3, j=3, k=2 0.4440283991252502\n",
      "for i=3, j=3, k=3 0.41761237153339736\n",
      "for i=3, j=3, k=4 0.39889420142353227\n",
      "for i=3, j=4, k=1 0.4343495270742598\n",
      "for i=3, j=4, k=2 0.42949617320963396\n",
      "for i=3, j=4, k=3 0.42064428265682025\n",
      "for i=3, j=4, k=4 0.40825376564603727\n",
      "for i=4, j=1, k=1 0.40493671386193314\n",
      "for i=4, j=1, k=2 0.4148656045375926\n",
      "for i=4, j=1, k=3 0.3912628381260574\n",
      "for i=4, j=1, k=4 0.35590708136597476\n",
      "for i=4, j=2, k=1 0.41624668877373283\n",
      "for i=4, j=2, k=2 0.41698669192538407\n",
      "for i=4, j=2, k=3 0.42202525312068573\n",
      "for i=4, j=2, k=4 0.4069496838105432\n",
      "for i=4, j=3, k=1 0.36238496925283314\n",
      "for i=4, j=3, k=2 0.42693622817947674\n",
      "for i=4, j=3, k=3 0.4390216482567072\n",
      "for i=4, j=3, k=4 0.4190782045378672\n",
      "for i=4, j=4, k=1 0.3834566418217646\n",
      "for i=4, j=4, k=2 0.4181839295003015\n",
      "for i=4, j=4, k=3 0.407266857616514\n",
      "for i=4, j=4, k=4 0.3977928799077186\n"
     ]
    }
   ],
   "source": [
    "for i in range(1, 5):\n",
    "    for j in range(1, 5):\n",
    "        for k in range(1, 5):\n",
    "            vr = VotingRegressor(estimators=estimators, weights=[i, j, k])\n",
    "            print(\"for i={}, j={}, k={}\".format(i, j ,k) ,np.mean(cross_val_score(vr, x, y, cv=10, scoring='r2')))\n",
    "            "
   ]
  }
 ],
 "metadata": {
  "kernelspec": {
   "display_name": "Python 3",
   "language": "python",
   "name": "python3"
  },
  "language_info": {
   "codemirror_mode": {
    "name": "ipython",
    "version": 3
   },
   "file_extension": ".py",
   "mimetype": "text/x-python",
   "name": "python",
   "nbconvert_exporter": "python",
   "pygments_lexer": "ipython3",
   "version": "3.12.4"
  }
 },
 "nbformat": 4,
 "nbformat_minor": 5
}
